{
 "cells": [
  {
   "cell_type": "markdown",
   "metadata": {},
   "source": [
    "# Data analysis in Python\n",
    "\n",
    "## Lesson preamble\n",
    "\n",
    "### Learning objectives\n",
    "\n",
    "- Describe what a data frame is.\n",
    "- Load external data from a .csv file into a data frame with pandas.\n",
    "- Summarize the contents of a data frame with pandas.\n",
    "- Learn to use data frame attributes `loc[]`, `head()`, `info()`, `describe()`, `shape`, `columns`, `index`.\n",
    "- Understand the split-apply-combine concept for data analysis.\n",
    "    - Use `groupby()`, `mean()`, `agg()` and `size()` to apply this technique.\n",
    "- Use `concat()` and `merge()` to combine data frames.\n",
    "\n",
    "### Lesson outline\n",
    "\n",
    "- Manipulating and analyzing data with pandas\n",
    "    - Data set background (10 min)\n",
    "    - What are data frames (15 min)\n",
    "    - Data wrangling with pandas (40 min)\n",
    "- Split-apply-combine techniques in `pandas`\n",
    "    - Using `mean()` to summarize categorical data (20 min)\n",
    "    - Using `size()` to summarize categorical data (15 min)\n",
    "- Combining data frames (15 min)\n",
    "\n",
    "---\n",
    "\n",
    "## Manipulating and analyzing data with pandas"
   ]
  },
  {
   "cell_type": "markdown",
   "metadata": {},
   "source": [
    "To access additional functionality in a spreadsheet program, you need to click the menu and select the tool you want to use. All charts are in one menu, text layout tools in another, data analyses tools in a third, and so on. Programming languages such as Python have so many tools and functions so that they would not fit in a menu. Instead of clicking File -> Open and chose the file, you would type something similar to file.open('<filename>') in a programming language. Don't worry if you forget the exact expression, it is often enough to just type the few first letters and then hit Tab, to show the available options, more on that later."
   ]
  },
  {
   "cell_type": "markdown",
   "metadata": {},
   "source": [
    "### Dataset background\n",
    "\n",
    "Today, we will be working with real data from a longitudinal study of the\n",
    "species abundance in the Chihuahuan desert ecosystem near Portal, Arizona, USA.\n",
    "This study includes observations of plants, ants, and rodents from 1977 - 2002,\n",
    "and has been used in over 100 publications. More information is available in\n",
    "[the abstract of this paper from 2009](\n",
    "http://onlinelibrary.wiley.com/doi/10.1890/08-1222.1/full). There are several\n",
    "datasets available related to this study, and we will be working with datasets\n",
    "that have been preprocessed by the [Data\n",
    "Carpentry](https://www.datacarpentry.org) to facilitate teaching. These are made\n",
    "available online as *The Portal Project Teaching Database*, both at the [Data\n",
    "Carpentry website](http://www.datacarpentry.org/ecology-workshop/data/), and on\n",
    "[Figshare](https://figshare.com/articles/Portal_Project_Teaching_Database/1314459/6).\n",
    "Figshare is a great place to publish data, code, figures, and more openly to\n",
    "make them available for other researchers and to communicate findings that are\n",
    "not part of a longer paper.\n",
    "\n",
    "#### Presentation of the survey data\n",
    "\n",
    "We are studying the species and weight of animals caught in plots in our study\n",
    "area. The dataset is stored as a comma separated value (CSV) file. Each row\n",
    "holds information for a single animal, and the columns represent:\n",
    "\n",
    "| Column           | Description                        |\n",
    "|------------------|------------------------------------|\n",
    "| record_id        | unique id for the observation      |\n",
    "| month            | month of observation               |\n",
    "| day              | day of observation                 |\n",
    "| year             | year of observation                |\n",
    "| plot_id          | ID of a particular plot            |\n",
    "| species_id       | 2-letter code                      |\n",
    "| sex              | sex of animal (\"M\", \"F\")           |\n",
    "| hindfoot_length  | length of the hindfoot in mm       |\n",
    "| weight           | weight of the animal in grams      |\n",
    "| genus            | genus of animal                    |\n",
    "| species          | species of animal                  |\n",
    "| taxa             | e.g. rodent, reptile, bird, rabbit |\n",
    "| plot_type        | type of plot                       |"
   ]
  },
  {
   "cell_type": "markdown",
   "metadata": {},
   "source": [
    "To read the data into Python, we are going to use a function called `read_csv`. This function is contained in an Python-package called [`pandas`](https://pandas.pydata.org/). As mentioned previously, Python-packages are a bit like browser extensions, they are not essential, but can provide nifty functionality. To use a package, it first needs to be imported."
   ]
  },
  {
   "cell_type": "code",
   "execution_count": 1,
   "metadata": {},
   "outputs": [],
   "source": [
    "# pandas is given the nickname `pd`\n",
    "import pandas as pd"
   ]
  },
  {
   "cell_type": "markdown",
   "metadata": {},
   "source": [
    "`pandas` can read CSV-files saved on the computer or directly from an URL."
   ]
  },
  {
   "cell_type": "code",
   "execution_count": null,
   "metadata": {},
   "outputs": [],
   "source": [
    "surveys = pd.read_csv('https://ndownloader.figshare.com/files/2292169')"
   ]
  },
  {
   "cell_type": "markdown",
   "metadata": {},
   "source": [
    "To view the result, type `surveys` in a cell and run it, just as when viewing the content of any variable in Python."
   ]
  },
  {
   "cell_type": "code",
   "execution_count": null,
   "metadata": {},
   "outputs": [],
   "source": [
    "surveys"
   ]
  },
  {
   "cell_type": "markdown",
   "metadata": {},
   "source": [
    "This is how a data frame is displayed in the Jupyter Notebook. Although the data frame itself just consists of the values, the Notebook knows that this is a data frame and displays it in a nice tabular format (by adding HTML decorators), and adds some cosmetic conveniences such as the bold font type for the column and row names, the alternating grey and white zebra stripes for the rows and highlights the row the mouse pointer moves over. The increasing numbers on the far left is the data frame's index, which was added by `pandas` to easily distinguish between the rows.\n",
    "\n",
    "## What are data frames?\n",
    "\n",
    "A data frame is the representation of data in a tabular format, similar to how data is often arranged in spreadsheets. The data is rectangular, meaning that all rows have the same amount of columns and all columns have the same amount of rows. Data frames are the *de facto* data structure for most tabular data, and what we use for statistics and plotting. A data frame can be created by hand, but most commonly they are generated by an input function, such as `read_csv()`. In other words, when importing spreadsheets from your hard drive (or the web).\n",
    "\n",
    "As can be seen above, the default is to display the first and last 30 rows and truncate everything in between, as indicated by the ellipsis (`...`). Although it is truncated, this output is still quite space consuming. To glance at how the data frame looks, it is sufficient to display only the top (the first 5 lines) using the `head()` method."
   ]
  },
  {
   "cell_type": "code",
   "execution_count": null,
   "metadata": {},
   "outputs": [],
   "source": [
    "surveys.head()"
   ]
  },
  {
   "cell_type": "markdown",
   "metadata": {},
   "source": [
    "Methods are very similar to functions, the main difference is that they belong to an object (above, the method `head()` belongs to the data frame `surveys`). Methods operate on the object they belong to, that's why we can call the method with an empty parenthesis without any arguments. Compare this with the function `type()` that was introduced previously."
   ]
  },
  {
   "cell_type": "code",
   "execution_count": null,
   "metadata": {},
   "outputs": [],
   "source": [
    "type(surveys)"
   ]
  },
  {
   "cell_type": "markdown",
   "metadata": {},
   "source": [
    "Here, the `surveys` variable is explicitly passed as an argument to `type()`. An immediately tangible advantage with methods is that they simplify tab completion. Just type the name of the dataframe, a period, and then hit tab to see all the relevant methods for that data frame instead of fumbling around with all the available functions in Python (there's quite a few!) and figuring out which ones operate on data frames and which do not. Methods also facilitates readability when chaining many operations together, which will be shown in detail later.\n",
    "\n",
    "The columns in a data frame can contain data of different types, e.g. integers, floats, and objects (which includes strings, lists, dictionaries, and more)). General information about the data frame (including the column data types) can be obtained with the `info()` method."
   ]
  },
  {
   "cell_type": "code",
   "execution_count": null,
   "metadata": {},
   "outputs": [],
   "source": [
    "surveys.info()"
   ]
  },
  {
   "cell_type": "markdown",
   "metadata": {},
   "source": [
    "The information includes the total number of rows and columns, the number of non-null observations, the column data types, and the memory (RAM) usage. The number of non-null observation is not the same for all columns, which means that some columns contain null values representing that there is missing information. In `pandas` these missing values are marked `NaN` for \"not a number\".\n",
    "\n",
    "The column data type is often indicative of which type of data is stored in that column, and approximately corresponds to the following\n",
    "\n",
    "- **Qualitative/Categorical**\n",
    "    - Nominal (labels, e.g. 'red', 'green', 'blue')\n",
    "        - `object`, `category`\n",
    "    - Ordinal (labels with order, e.g. 'Jan', 'Feb', 'Mar')\n",
    "        - `object`, `category`, `int`\n",
    "    - Binary (only two outcomes, e.g. True or False)\n",
    "        - `bool`\n",
    "- **Quantitative/Numerical**\n",
    "    - Discrete (whole numbers, often counting, e.g. number of children)\n",
    "        - `int`\n",
    "    - Continuous (measured values with decimals, e.g. weight)\n",
    "        - `float`\n",
    "    \n",
    "Note that an `object` could contain different types, e.g. `str` or `list`. Also note that there can be exceptions to the schema above, but it is still a useful rough guide.\n",
    "\n",
    "After reading in the data into a data frame, `head()` and `info()` are two of the most useful methods to get an idea of the structure of this data frame. There are many additional methods that can facilitate the understanding of what a data frame contains:"
   ]
  },
  {
   "cell_type": "markdown",
   "metadata": {},
   "source": [
    "- Size:\n",
    "    - `surveys.shape` - a tuple with the number of rows in the first element\n",
    "      and the number of columns as the second element\n",
    "    - `surveys.shape[0]` - the number of rows\n",
    "    - `surveys.shape[1]`- the number of columns\n",
    "\n",
    "- Content:\n",
    "    - `surveys.head()` - shows the first 5 rows\n",
    "    - `surveys.tail()` - shows the last 5 rows\n",
    "\n",
    "- Names:\n",
    "    - `surveys.columns` - returns the names of the columns (also called variable names) \n",
    "      objects)\n",
    "    - `surveys.index` - returns the names of the rows (referred to as the index in pandas)\n",
    "\n",
    "- Summary:\n",
    "    - `surveys.info()` - column names and data types, number of observations, memory consumptions\n",
    "      length, and content of  each column\n",
    "    - `surveys.describe()` - summary statistics for each column\n",
    "\n",
    "These belong to a data frame and are commonly referred to as *attributes* of the data frame. All attributes are accessed with the dot-syntax (`.`), which returns the value of the attribute."
   ]
  },
  {
   "cell_type": "code",
   "execution_count": null,
   "metadata": {},
   "outputs": [],
   "source": [
    "surveys.shape"
   ]
  },
  {
   "cell_type": "markdown",
   "metadata": {},
   "source": [
    "If the attribute is a method, parentheses can be appended to the name to carry out the method's operation on the data frame."
   ]
  },
  {
   "cell_type": "code",
   "execution_count": null,
   "metadata": {},
   "outputs": [],
   "source": [
    "surveys.head"
   ]
  },
  {
   "cell_type": "code",
   "execution_count": null,
   "metadata": {},
   "outputs": [],
   "source": [
    "surveys.head()"
   ]
  },
  {
   "cell_type": "markdown",
   "metadata": {},
   "source": [
    "Attributes that are not methods often hold a value that has been precomputed because it is commonly accessed and it saves time store the value in an attribute instead of recomputing it every time it is needed. For example, every time `pandas` creates a data frame, the number of rows and columns is computed and stored in the `shape` attribute.\n",
    "\n",
    ">#### Challenge\n",
    ">\n",
    ">Based on the output of `surveys.info()`, can you answer the following questions?\n",
    ">\n",
    ">* What is the class of the object `surveys`?\n",
    ">* How many rows and how many columns are in this object?\n",
    ">* Why is there not the same number of rows (observations) for each column?"
   ]
  },
  {
   "cell_type": "markdown",
   "metadata": {},
   "source": [
    "### Saving data frames locally\n",
    "\n",
    "It is good practice to keep a copy of the data stored locally on your computer in case you want to do offline analyses,  the online version of the file changes, or the file is taken down. For this, the data could be downloaded manually or the current `surveys` data frame could be saved to disk as a CSV-file with `to_csv()`."
   ]
  },
  {
   "cell_type": "code",
   "execution_count": null,
   "metadata": {},
   "outputs": [],
   "source": [
    "surveys.to_csv('surveys.csv', index=False)\n",
    "# `index=False` because the index (the row names) was generated automatically when pandas opened\n",
    "# the file and this information is not needed to be saved"
   ]
  },
  {
   "cell_type": "markdown",
   "metadata": {},
   "source": [
    "Since the data is now saved locally, the next time this Notebook is opened, it could be loaded from the local path instead of downloading it from the URL."
   ]
  },
  {
   "cell_type": "code",
   "execution_count": null,
   "metadata": {},
   "outputs": [],
   "source": [
    "surveys = pd.read_csv('surveys.csv')\n",
    "surveys.head()"
   ]
  },
  {
   "cell_type": "markdown",
   "metadata": {},
   "source": [
    "### Indexing and subsetting data frames\n",
    "\n",
    "The survey data frame has rows and columns (it has 2 dimensions). To extract specific data from it (also referred to as \"subsetting\"), columns can be selected by their name.The Jupyter Notebook (technically, the underlying IPython interpreter) knows about the columns in the data frame, so tab autocompletion can be used to get the correct column name. "
   ]
  },
  {
   "cell_type": "code",
   "execution_count": null,
   "metadata": {},
   "outputs": [],
   "source": [
    "surveys['species_id'].head()"
   ]
  },
  {
   "cell_type": "markdown",
   "metadata": {},
   "source": [
    "The name of the column is not shown, since there is only one. Remember that the numbers on the left is just the index of the data frame, which was added by `pandas` upon importing the data.\n",
    "\n",
    "Another syntax that is often used to specify column names is `.<column_name>`."
   ]
  },
  {
   "cell_type": "code",
   "execution_count": null,
   "metadata": {},
   "outputs": [],
   "source": [
    "surveys.species_id.head()"
   ]
  },
  {
   "cell_type": "markdown",
   "metadata": {},
   "source": [
    "Using brackets is clearer and also alows for passing multiple columns as a list, so this tutorial will stick to that."
   ]
  },
  {
   "cell_type": "code",
   "execution_count": null,
   "metadata": {},
   "outputs": [],
   "source": [
    "surveys[['species_id', 'record_id']].head()"
   ]
  },
  {
   "cell_type": "markdown",
   "metadata": {},
   "source": [
    "The output is displayed a bit differently this time. The reason is that in the last cell where the returned data frame only had one column (\"species\") `pandas` technically returned a `Series`, not a `Dataframe`. This can be confirmed by using `type` as previously."
   ]
  },
  {
   "cell_type": "code",
   "execution_count": null,
   "metadata": {},
   "outputs": [],
   "source": [
    "type(surveys['species_id'].head())"
   ]
  },
  {
   "cell_type": "code",
   "execution_count": null,
   "metadata": {},
   "outputs": [],
   "source": [
    "type(surveys[['species_id', 'record_id']].head())"
   ]
  },
  {
   "cell_type": "markdown",
   "metadata": {},
   "source": [
    "So, every individual column is actually a `Series` and together they constitue a `Dataframe`. This introductory tutorial will not make any further distinction between a `Series` and a `Dataframe`, and many of the analysis techniques used here will apply to both series and data frames."
   ]
  },
  {
   "cell_type": "markdown",
   "metadata": {},
   "source": [
    "Selecting with single brackets (`[]`) is a shortcut to common operations, such as selecting columns by labels as above. For more flexible and robust row and column selection the more verbose `loc[<rows>, <columns>]` (location) syntax is used."
   ]
  },
  {
   "cell_type": "code",
   "execution_count": null,
   "metadata": {},
   "outputs": [],
   "source": [
    "surveys.loc[[0, 2, 4], ['species', 'record_id']]\n",
    "# Although methods usually have trailing parenthesis, square brackets are used with `loc[]` to stay\n",
    "# consistent with the indexing with square brackets in general in Python (e.g. lists and Numpy arrays)"
   ]
  },
  {
   "cell_type": "markdown",
   "metadata": {},
   "source": [
    "A single number can be selected, which returns that value (here, an integer) rather than a data frame or series with just one value."
   ]
  },
  {
   "cell_type": "code",
   "execution_count": null,
   "metadata": {},
   "outputs": [],
   "source": [
    "surveys.loc[4, 'record_id']"
   ]
  },
  {
   "cell_type": "markdown",
   "metadata": {},
   "source": [
    "If the column argument is is left out, all columns are selected."
   ]
  },
  {
   "cell_type": "code",
   "execution_count": null,
   "metadata": {},
   "outputs": [],
   "source": [
    "surveys.loc[[3, 4]]"
   ]
  },
  {
   "cell_type": "markdown",
   "metadata": {},
   "source": [
    "To select all rows, but only a subset of columns, the colon character (`:`) can be used."
   ]
  },
  {
   "cell_type": "code",
   "execution_count": null,
   "metadata": {},
   "outputs": [],
   "source": [
    "surveys.loc[:, ['month', 'day']].shape # show the size of the data frame"
   ]
  },
  {
   "cell_type": "markdown",
   "metadata": {},
   "source": [
    "It is also possible to select slices of rows and column labels."
   ]
  },
  {
   "cell_type": "code",
   "execution_count": null,
   "metadata": {},
   "outputs": [],
   "source": [
    "surveys.loc[2:4, 'record_id':'day']"
   ]
  },
  {
   "cell_type": "markdown",
   "metadata": {},
   "source": [
    "It is important to realize that `loc[]` selects rows and columns by their *labels*, and that slicing therefore in inclusive of *both* the start and the end. To instead select by row or column *position*, use `iloc[]` (integer location)."
   ]
  },
  {
   "cell_type": "code",
   "execution_count": null,
   "metadata": {},
   "outputs": [],
   "source": [
    "surveys.iloc[[2, 3, 4], [0, 1, 2]]"
   ]
  },
  {
   "cell_type": "markdown",
   "metadata": {},
   "source": [
    "The index of `surveys` consists of consecutive integers so in this case selecting from the index by labels or position will look the same. As will be shown later, an index could also consist of text names just like the columns.\n",
    "\n",
    "While selecting a slice by label is inclusive of the start and end, selecting a slice by position is inclusive of the start by exclusive of the end position, consistent with how position slicing works for other Python objects, such as lists and tuples."
   ]
  },
  {
   "cell_type": "code",
   "execution_count": null,
   "metadata": {},
   "outputs": [],
   "source": [
    "surveys.iloc[2:5, :3]"
   ]
  },
  {
   "cell_type": "markdown",
   "metadata": {},
   "source": [
    "Selecting slices of row positions is a common operation, and has thus been given a shortcut syntax with single brackets."
   ]
  },
  {
   "cell_type": "code",
   "execution_count": null,
   "metadata": {},
   "outputs": [],
   "source": [
    "surveys[2:5]"
   ]
  },
  {
   "cell_type": "markdown",
   "metadata": {},
   "source": [
    ">#### Challenge\n",
    ">\n",
    ">1. Extract the 200th and 201st row of the `surveys` dataset and assign the resulting data frame to a new variable name (`surveys_200_201`). Remember that Python indexing starts at 0!\n",
    ">\n",
    ">2. How can you get the same result as from `surveys.head()` by using row slices instead of the `head()` method?\n",
    ">\n",
    ">3. There are at least three distinct ways to extract the last row of the data frame. How many can you come up with?"
   ]
  },
  {
   "cell_type": "markdown",
   "metadata": {},
   "source": [
    "The `describe()` method was mentioned above as a way of retrieving summary statistics of a data frame. Together with `info()` and `head()` this is often a good place to start exploratory data analysis as it gives a nice overview of the numeric valuables the data set."
   ]
  },
  {
   "cell_type": "code",
   "execution_count": null,
   "metadata": {},
   "outputs": [],
   "source": [
    "surveys.describe()"
   ]
  },
  {
   "cell_type": "markdown",
   "metadata": {},
   "source": [
    "A common next step would be to plot the data to explore relationships between different variables, but before getting into plotting, it is beneficial to elaborate on the data frame object and several of its common operations.\n",
    "\n",
    "An often desired outcome is to select a subset of rows matching a criteria, e.g. which observations have a weight under 5 grams. To do this, the \"less than\" comparison operator that was introduced previously can be used."
   ]
  },
  {
   "cell_type": "code",
   "execution_count": null,
   "metadata": {},
   "outputs": [],
   "source": [
    "surveys['weight'] < 5"
   ]
  },
  {
   "cell_type": "markdown",
   "metadata": {},
   "source": [
    "The result is a boolean array with one value for every row in the data frame indicating whether it is `True` or `False` that this row has a value below 5 in the weight column. This boolean array can be used to select only those rows from the data frame that meet the specified condition."
   ]
  },
  {
   "cell_type": "code",
   "execution_count": null,
   "metadata": {},
   "outputs": [],
   "source": [
    "surveys[surveys['weight'] < 5]"
   ]
  },
  {
   "cell_type": "markdown",
   "metadata": {},
   "source": [
    "As before, this can be combined with selection of a particular set of columns."
   ]
  },
  {
   "cell_type": "code",
   "execution_count": null,
   "metadata": {},
   "outputs": [],
   "source": [
    "surveys.loc[surveys['weight'] < 5, ['weight', 'species']]"
   ]
  },
  {
   "cell_type": "markdown",
   "metadata": {},
   "source": [
    "A single expression can also be used to filter for several criteria, either matching *all* criteria (`&`) or *any* criteria (`|`). These special operators are used instead of `and` and `or` to make sure that the comparison occurs for each row in the data frame. Parentheses are added to indicate the priority of the comparisons."
   ]
  },
  {
   "cell_type": "code",
   "execution_count": null,
   "metadata": {},
   "outputs": [],
   "source": [
    "# AND = &\n",
    "surveys.loc[(surveys['taxa'] == 'Rodent') & (surveys['sex'] == 'F'), ['taxa', 'sex']].head()"
   ]
  },
  {
   "cell_type": "markdown",
   "metadata": {},
   "source": [
    "To increase readability, these statements can be put on multiple rows. Anything that is within a parameter or bracket in Python can be continued on the next row. When inside a bracket or parenthesis, the indentation is not significant to the Python interpreter, but it is still recommended to include it in order to make the code more readable."
   ]
  },
  {
   "cell_type": "code",
   "execution_count": null,
   "metadata": {},
   "outputs": [],
   "source": [
    "surveys.loc[(surveys['taxa'] == 'Rodent') &\n",
    "            (surveys['sex'] == 'F'),\n",
    "            ['taxa', 'sex']].head()"
   ]
  },
  {
   "cell_type": "markdown",
   "metadata": {},
   "source": [
    "With the `|` operator, rows matching either of the supplied criteria are returned."
   ]
  },
  {
   "cell_type": "code",
   "execution_count": null,
   "metadata": {},
   "outputs": [],
   "source": [
    "# OR = |\n",
    "surveys.loc[(surveys['species'] == 'clarki') |\n",
    "            (surveys['species'] == 'leucophrys'),\n",
    "            'species']"
   ]
  },
  {
   "cell_type": "markdown",
   "metadata": {},
   "source": [
    ">#### Challenge\n",
    ">\n",
    ">Subset the `survey` data to include individuals collected before\n",
    ">1995 and retain only the columns `year`, `sex`, and `weight`."
   ]
  },
  {
   "cell_type": "markdown",
   "metadata": {},
   "source": [
    "### Creating new columns\n",
    "\n",
    "A frequent operation when working with data, is to create new columns based on the values in existing columns, for example to do unit conversions or find the ratio of values in two columns. To create a new column of the weight in kg instead of in grams:"
   ]
  },
  {
   "cell_type": "code",
   "execution_count": null,
   "metadata": {},
   "outputs": [],
   "source": [
    "surveys['weight_kg'] = surveys['weight'] / 1000\n",
    "surveys.head(10)"
   ]
  },
  {
   "cell_type": "markdown",
   "metadata": {},
   "source": [
    "The first few rows of the output are full of `NA`s. To remove those, use the `dropna()` method of the data frame."
   ]
  },
  {
   "cell_type": "code",
   "execution_count": null,
   "metadata": {},
   "outputs": [],
   "source": [
    "surveys.dropna().head(10)"
   ]
  },
  {
   "cell_type": "markdown",
   "metadata": {
    "slideshow": {
     "slide_type": "-"
    }
   },
   "source": [
    "By default, `.dropna()` removes all rows that has an NA value in any of the columns. There are parameters that controls how the rows are dropped and which columns should be searched for NAs.\n",
    "\n",
    "A common alternative to removing rows containing `NA` values is to fill out the values with e.g. the mean of all observations or the previous non-NA value. This can be done with the `fillna()` method."
   ]
  },
  {
   "cell_type": "code",
   "execution_count": null,
   "metadata": {},
   "outputs": [],
   "source": [
    "surveys['hindfoot_length'].head()"
   ]
  },
  {
   "cell_type": "code",
   "execution_count": null,
   "metadata": {},
   "outputs": [],
   "source": [
    "# Fill with mean value\n",
    "fill_value = surveys['hindfoot_length'].mean()\n",
    "surveys['hindfoot_length'].fillna(fill_value).head()"
   ]
  },
  {
   "cell_type": "code",
   "execution_count": null,
   "metadata": {},
   "outputs": [],
   "source": [
    "# Fill with previous non-null value\n",
    "surveys['hindfoot_length'].fillna(method='ffill').head()"
   ]
  },
  {
   "cell_type": "markdown",
   "metadata": {},
   "source": [
    "Whether to use `dropna()` or `fillna()` depends on the data set and the purpose of the analysis. It is also possible to interpolate missing values from neighboring values via the `interpolate()` method, which can be useful when working with timeseries."
   ]
  },
  {
   "cell_type": "markdown",
   "metadata": {
    "slideshow": {
     "slide_type": "-"
    }
   },
   "source": [
    ">#### Challenge\n",
    ">\n",
    ">1. Create a new data frame from the `surveys` data that contains only the `species_id` and `hindfoot_length` columns and no NA values.\n",
    ">2. Add a column to this new data frame called `hindfoot_half`, which contains values that are half the `hindfoot_length` values. Keep all observations that have a value less than 30 in the `hindfoot_half`.\n",
    ">3. The final data frame should have 31,436 rows and 3 columns. How can you check that your data frame meets these criteria?"
   ]
  },
  {
   "cell_type": "markdown",
   "metadata": {},
   "source": [
    "## Split-apply-combine techniques in pandas\n",
    "\n",
    "Many data analysis tasks can be approached using the *split-apply-combine* paradigm: split the data into groups, apply some analysis to each group, and then combine the results.\n",
    "\n",
    "`pandas` facilitates this workflow through the use of `groupby()` to split data and summary/aggregation functions such as `mean()`, which collapses each group into a single-row summary of that group. The arguments to `groupby()` are the column names that contain the *categorical* variables by which  summary statistics should be calculated. To start, compute the mean `weight` by sex.\n",
    "\n",
    "![Image credit Jake VanderPlas](img/split-apply-combine.png)\n",
    "\n",
    "*Image credit Jake VanderPlas*\n",
    "\n",
    "### Using `mean()` to summarize categorical data "
   ]
  },
  {
   "cell_type": "markdown",
   "metadata": {},
   "source": [
    "The `.mean()` method can be used to calculate the average of each group. When the mean is computed, the default behavior is to ignore NA values, so they only need to be dropped if they are to be excluded from the visual output."
   ]
  },
  {
   "cell_type": "code",
   "execution_count": null,
   "metadata": {},
   "outputs": [],
   "source": [
    "surveys.groupby('species')['weight'].mean()"
   ]
  },
  {
   "cell_type": "markdown",
   "metadata": {},
   "source": [
    "The output here is a series that is indexed with the grouped variable (the species) and the single column contains the result of the aggregation (the mean weight). Since there are so many species, a subset of the will be selected to fit the output within the screen and facilitate instruction. This could be done by manually typing each OR (`|`) condition."
   ]
  },
  {
   "cell_type": "code",
   "execution_count": null,
   "metadata": {},
   "outputs": [],
   "source": [
    "surveys.loc[(surveys['species'] == 'albigula') |\n",
    "            (surveys['species'] == 'ordii') |\n",
    "            (surveys['species'] == 'flavus') |\n",
    "            (surveys['species'] == 'torridus')].shape"
   ]
  },
  {
   "cell_type": "markdown",
   "metadata": {},
   "source": [
    "Comparing this number with the number of rows in the original data frame shows that it was filtered successfully."
   ]
  },
  {
   "cell_type": "code",
   "execution_count": null,
   "metadata": {},
   "outputs": [],
   "source": [
    "surveys.shape"
   ]
  },
  {
   "cell_type": "markdown",
   "metadata": {},
   "source": [
    "However, it is rather tedious to type out the species names by hand and to do one comparison per species. Instead, the names of the species of interest can be extract by putting them in a list and use the `isin()` method."
   ]
  },
  {
   "cell_type": "code",
   "execution_count": null,
   "metadata": {},
   "outputs": [],
   "source": [
    "species_to_keep = ['albigula', 'ordii', 'flavus', 'torridus']\n",
    "surveys_sub = surveys.loc[surveys['species'].isin(species_to_keep)]\n",
    "surveys_sub.shape"
   ]
  },
  {
   "cell_type": "code",
   "execution_count": null,
   "metadata": {},
   "outputs": [],
   "source": [
    "avg_wt_spec = surveys_sub.groupby('species')['weight'].mean()\n",
    "avg_wt_spec"
   ]
  },
  {
   "cell_type": "markdown",
   "metadata": {},
   "source": [
    "Individual species can be selected from the resulting series using `loc[]`, just as previously."
   ]
  },
  {
   "cell_type": "code",
   "execution_count": null,
   "metadata": {},
   "outputs": [],
   "source": [
    "avg_wt_spec.loc[['ordii', 'albigula']]"
   ]
  },
  {
   "cell_type": "markdown",
   "metadata": {},
   "source": [
    "Single `[]` without `.loc[]` could also be used to extract rows by label from a series, but since single `[]` extracts columns from a data frame, it can be easier to be explicit and use `.loc[]` instead of keeping track when the returned object is a series or a data frame.\n",
    "\n",
    "Groups can also be created from multiple columns, e.g. it could be interesting to see the difference in weight between males and females within each species."
   ]
  },
  {
   "cell_type": "code",
   "execution_count": null,
   "metadata": {},
   "outputs": [],
   "source": [
    "avg_wt_spec_sex = surveys_sub.groupby(['species', 'sex'])['weight'].mean()\n",
    "avg_wt_spec_sex"
   ]
  },
  {
   "cell_type": "markdown",
   "metadata": {},
   "source": [
    "The returned series has an index that is a combination of the columns `species` and `sex`, and referred to as a `MultiIndex`. The same syntax as previously can be used to select rows on the species-level."
   ]
  },
  {
   "cell_type": "code",
   "execution_count": null,
   "metadata": {},
   "outputs": [],
   "source": [
    "avg_wt_spec_sex.loc[['ordii', 'albigula']]"
   ]
  },
  {
   "cell_type": "markdown",
   "metadata": {},
   "source": [
    "To select specific values from both levels of the `MultiIndex`, a list of tuples can be passed to `loc[]`."
   ]
  },
  {
   "cell_type": "code",
   "execution_count": null,
   "metadata": {},
   "outputs": [],
   "source": [
    "avg_wt_spec_sex.loc[[('ordii', 'F'), ('albigula', 'M')]]"
   ]
  },
  {
   "cell_type": "markdown",
   "metadata": {},
   "source": [
    "To select only the female observations from all species, the `xs()` (cross section) method can be used."
   ]
  },
  {
   "cell_type": "code",
   "execution_count": null,
   "metadata": {},
   "outputs": [],
   "source": [
    "avg_wt_spec_sex.xs('F', level='sex')"
   ]
  },
  {
   "cell_type": "markdown",
   "metadata": {},
   "source": [
    "The names and values of the index levels can be seen by inspecting the index object."
   ]
  },
  {
   "cell_type": "code",
   "execution_count": null,
   "metadata": {},
   "outputs": [],
   "source": [
    "avg_wt_spec_sex.index"
   ]
  },
  {
   "cell_type": "markdown",
   "metadata": {},
   "source": [
    "Although MultiIndexes offer succinct and fast ways to access data, they also requires memorization of additional syntax and are strictly speaking not essential unless speed is of particular concern. It can therefore be easier to reset the index, so that all values are stored in columns."
   ]
  },
  {
   "cell_type": "code",
   "execution_count": null,
   "metadata": {},
   "outputs": [],
   "source": [
    "avg_wt_spec_sex_res = avg_wt_spec_sex.reset_index()\n",
    "avg_wt_spec_sex_res"
   ]
  },
  {
   "cell_type": "markdown",
   "metadata": {},
   "source": [
    "After resetting the index, the same comparison syntax introduced earlier can be used instead of `xs()` or passing lists of tuples to `loc[]`."
   ]
  },
  {
   "cell_type": "code",
   "execution_count": null,
   "metadata": {},
   "outputs": [],
   "source": [
    "female_weights = avg_wt_spec_sex_res.loc[avg_wt_spec_sex_res['sex'] == 'F']\n",
    "female_weights"
   ]
  },
  {
   "cell_type": "markdown",
   "metadata": {},
   "source": [
    "`reset_index()` grants the freedom of not having to work with indexes, but it is still worth keeping in mind that selecting on an index level with `xs()` can be orders of magnitude faster than using bollean comparisons (on large data frames).\n",
    "\n",
    "The opposite operation (to create an index) can be performed with `set_index()` on any column (or combination of columns) that creates an index with unique values."
   ]
  },
  {
   "cell_type": "code",
   "execution_count": null,
   "metadata": {},
   "outputs": [],
   "source": [
    "female_weights.set_index(['species', 'sex'])"
   ]
  },
  {
   "cell_type": "markdown",
   "metadata": {},
   "source": [
    "# Multiple aggregations on grouped data\n",
    "\n",
    "Since the same grouped data frame will be used in multiple code chunks below, this can be assigned to a new variable instead of typing out the grouping expression each time."
   ]
  },
  {
   "cell_type": "code",
   "execution_count": null,
   "metadata": {},
   "outputs": [],
   "source": [
    "grouped_surveys = surveys_sub.groupby(['species', 'sex'])\n",
    "grouped_surveys['weight'].mean()"
   ]
  },
  {
   "cell_type": "markdown",
   "metadata": {},
   "source": [
    "Other aggregation methods, such as the standard deviation, are called with the same syntax."
   ]
  },
  {
   "cell_type": "code",
   "execution_count": null,
   "metadata": {},
   "outputs": [],
   "source": [
    "grouped_surveys['weight'].std()"
   ]
  },
  {
   "cell_type": "markdown",
   "metadata": {},
   "source": [
    "Instead of using the `mean()` method, the more general `agg()` method could be called to aggregate (or summarize) by *any* existing aggregation functions. The equivalent to the `mean()` method would be to call `agg()` and specify `'mean'`."
   ]
  },
  {
   "cell_type": "code",
   "execution_count": null,
   "metadata": {},
   "outputs": [],
   "source": [
    "grouped_surveys['weight'].agg('mean')"
   ]
  },
  {
   "cell_type": "markdown",
   "metadata": {},
   "source": [
    "This general approach is more flexible and powerful since multiple aggregation functions can be applied in the same line of code by passing them as a list to `agg()`. For instance, the standard deviation and mean could be computed in the same call by passing them in a list."
   ]
  },
  {
   "cell_type": "code",
   "execution_count": null,
   "metadata": {},
   "outputs": [],
   "source": [
    "grouped_surveys['weight'].agg(['mean', 'std'])"
   ]
  },
  {
   "cell_type": "markdown",
   "metadata": {},
   "source": [
    "The returned output is in this case a data frame and the `MultiIndex` is indicated in bold font.\n",
    "\n",
    "By passing a dictionary to `.agg()` it is possible to apply different aggregations to the different columns. Long code statements can be broken down into multiple lines if they are enclosed by parentheses, brackets or braces, something that will be described in detail later."
   ]
  },
  {
   "cell_type": "code",
   "execution_count": null,
   "metadata": {},
   "outputs": [],
   "source": [
    "grouped_surveys[['weight', 'hindfoot_length']].agg(\n",
    "    {'weight': 'sum',\n",
    "     'hindfoot_length': ['min', 'max']\n",
    "    }\n",
    ")"
   ]
  },
  {
   "cell_type": "markdown",
   "metadata": {},
   "source": [
    "There are plenty of aggregation methods available in pandas (e.g. `sem`, `mad`, `sum`), the most common are listed in [the table at the end of this subsection in the documentation](https://pandas.pydata.org/pandas-docs/stable/groupby.html#aggregation) and all can be found via tab-completions of the data frame (`surveys.<tab>`).\n",
    "\n",
    "Even if a function is not part of the `pandas` library, it can be passed to `agg()`."
   ]
  },
  {
   "cell_type": "code",
   "execution_count": null,
   "metadata": {},
   "outputs": [],
   "source": [
    "import numpy as np\n",
    "\n",
    "grouped_surveys['weight'].agg(np.mean)"
   ]
  },
  {
   "cell_type": "markdown",
   "metadata": {},
   "source": [
    "Any function can be passed like this, including user-created functions. "
   ]
  },
  {
   "cell_type": "markdown",
   "metadata": {},
   "source": [
    "> #### Challenge\n",
    "> \n",
    "> 1. Use `groupby()` and `agg()` to find the mean, min, and max hindfoot\n",
    "> length for each species."
   ]
  },
  {
   "cell_type": "markdown",
   "metadata": {},
   "source": [
    "### Using `size()` to summarize categorical data \n",
    "\n",
    "When working with data, it is common to want to know the number of observations present for each categorical variable. For this, `pandas` provides the `size()` method. For example, to group by 'taxa' and find the number of observations for each 'taxa':"
   ]
  },
  {
   "cell_type": "code",
   "execution_count": null,
   "metadata": {},
   "outputs": [],
   "source": [
    "# Note that the original full length data frame is used here again\n",
    "surveys.groupby('taxa').size()"
   ]
  },
  {
   "cell_type": "markdown",
   "metadata": {},
   "source": [
    "`size()` can also be used when grouping on multiple variables."
   ]
  },
  {
   "cell_type": "code",
   "execution_count": null,
   "metadata": {},
   "outputs": [],
   "source": [
    "surveys.groupby(['taxa', 'plot_type']).size()"
   ]
  },
  {
   "cell_type": "markdown",
   "metadata": {},
   "source": [
    "If there are many groups, `size()` is not that useful on its own. For example, it is difficult to quickly find the five most abundant species among the observations."
   ]
  },
  {
   "cell_type": "code",
   "execution_count": null,
   "metadata": {},
   "outputs": [],
   "source": [
    "surveys.groupby('species').size()"
   ]
  },
  {
   "cell_type": "markdown",
   "metadata": {},
   "source": [
    "Since there are many rows in this output, it would be beneficial to sort the table values and display the most abundant species first. This is easy to do with the `sort_values()` method."
   ]
  },
  {
   "cell_type": "code",
   "execution_count": null,
   "metadata": {},
   "outputs": [],
   "source": [
    "surveys.groupby('species').size().sort_values()"
   ]
  },
  {
   "cell_type": "markdown",
   "metadata": {},
   "source": [
    "That's better, but it could be helpful to display the most abundant species on top. In other words, the output should be arranged in descending order."
   ]
  },
  {
   "cell_type": "code",
   "execution_count": null,
   "metadata": {},
   "outputs": [],
   "source": [
    "surveys.groupby('species').size().sort_values(ascending=False).head(5)"
   ]
  },
  {
   "cell_type": "markdown",
   "metadata": {},
   "source": [
    "Looks good! By now, the code statement has grown quite long because many methods have been *chained* together. It can be tricky to keep track of what is going on in long method chains. To make the code more readable, it can be broken up multiple lines by adding a surrounding parenthesis."
   ]
  },
  {
   "cell_type": "code",
   "execution_count": null,
   "metadata": {},
   "outputs": [],
   "source": [
    "(surveys\n",
    "     .groupby('species')\n",
    "     .size()\n",
    "     .sort_values(ascending=False)\n",
    "     .head(5)\n",
    ")"
   ]
  },
  {
   "cell_type": "markdown",
   "metadata": {},
   "source": [
    "This looks neater and makes long method chains easier to reads. There is no absolute rule for when to break code into multiple line, but always try to write code that is easy for collaborators (your most common collaborator is a future version of yourself!) to understand.\n",
    "\n",
    "`pandas` actually has a convenience function for returning the top five results, so the values don't need to be sorted explicitly."
   ]
  },
  {
   "cell_type": "code",
   "execution_count": null,
   "metadata": {},
   "outputs": [],
   "source": [
    "(surveys\n",
    "     .groupby(['species'])\n",
    "     .size()\n",
    "     .nlargest() # the default is 5\n",
    ")"
   ]
  },
  {
   "cell_type": "markdown",
   "metadata": {},
   "source": [
    "To include more attributes about these species, add columns to `groupby()`."
   ]
  },
  {
   "cell_type": "code",
   "execution_count": null,
   "metadata": {},
   "outputs": [],
   "source": [
    "(surveys\n",
    "     .groupby(['species', 'taxa', 'genus'])\n",
    "     .size()\n",
    "     .nlargest()\n",
    ") "
   ]
  },
  {
   "cell_type": "markdown",
   "metadata": {},
   "source": [
    ">#### Challenge\n",
    ">\n",
    ">1. How many individuals were caught in each `plot_type` surveyed?\n",
    ">\n",
    ">2. Calculate the number of animals trapped per plot type for each year. Extract the combinations of year and plot type that had the three highest number of observations (e.g. \"1998-Control\")."
   ]
  },
  {
   "cell_type": "markdown",
   "metadata": {},
   "source": [
    "## Merging and concatenating data frames\n",
    "\n",
    "Commonly, several data frames (e.g. from different CSV-files) need to be combined together into one big data frame. Either rows or columns from different data frames can be combined together resulting in a data frame that is longer or wider than the originals, respectively.\n",
    "\n",
    "First, the syntax for subsetting data frames will be used to create the partial data frames that will later be joined together."
   ]
  },
  {
   "cell_type": "code",
   "execution_count": null,
   "metadata": {},
   "outputs": [],
   "source": [
    "wt_avg = surveys_sub.groupby('species')['weight'].mean().reset_index()\n",
    "wt_avg"
   ]
  },
  {
   "cell_type": "code",
   "execution_count": null,
   "metadata": {},
   "outputs": [],
   "source": [
    "wt_avg_top = wt_avg[:2]\n",
    "wt_avg_top"
   ]
  },
  {
   "cell_type": "code",
   "execution_count": null,
   "metadata": {},
   "outputs": [],
   "source": [
    "wt_avg_bot = wt_avg[2:]\n",
    "wt_avg_bot"
   ]
  },
  {
   "cell_type": "markdown",
   "metadata": {},
   "source": [
    "The `pandas` function `concat()` can be used to join the rows from these two data frames into one longer data frame."
   ]
  },
  {
   "cell_type": "code",
   "execution_count": null,
   "metadata": {},
   "outputs": [],
   "source": [
    "wt_avg_full = pd.concat([wt_avg_top, wt_avg_bot])\n",
    "wt_avg_full"
   ]
  },
  {
   "cell_type": "markdown",
   "metadata": {},
   "source": [
    "The first argument to `concat()` is a list of the data frames to concatenate, and can consist of more than two data frames."
   ]
  },
  {
   "cell_type": "code",
   "execution_count": null,
   "metadata": {},
   "outputs": [],
   "source": [
    "frames = [wt_avg_top, wt_avg_bot, wt_avg_top]\n",
    "pd.concat(frames)"
   ]
  },
  {
   "cell_type": "markdown",
   "metadata": {},
   "source": [
    "Concatenating rows from separate data sets is very useful when new data has been recorded and needs to be added to the previously existing data. Although `concat()` can also be used to add columns from different data frames together, the `merge()` function provides a more powerful interface for this operation. Its syntax is inspired by how these operations are performed on (SQL-like) databases.\n",
    "\n",
    "Since merging data frames joins columns together, let's first create a new data frame with a column for the median weight per species to be merged with the mean weight data frame."
   ]
  },
  {
   "cell_type": "code",
   "execution_count": null,
   "metadata": {},
   "outputs": [],
   "source": [
    "wt_med = surveys_sub.groupby('species')['weight'].median().reset_index()\n",
    "wt_med"
   ]
  },
  {
   "cell_type": "markdown",
   "metadata": {},
   "source": [
    "Merging only works with two data frames at a time and they are specified as the first and second argument to `merge()`. By default all columns with a common name from both data frames will be used to figure out how the rows should be added together. Here, only the `species` (and not the `weight`) column should be used to determine how to merge the dataframes, which can be specified with the `on` parameter."
   ]
  },
  {
   "cell_type": "code",
   "execution_count": null,
   "metadata": {},
   "outputs": [],
   "source": [
    "merged_df = pd.merge(wt_avg, wt_med, on='species')\n",
    "merged_df"
   ]
  },
  {
   "cell_type": "markdown",
   "metadata": {},
   "source": [
    "Since the column `weight` exists in both the individual data frames, `pandas` appends `_x` and `_y` to differentiate between the columns in the final data frame. These columns could be renamed to better indicate what their values represent."
   ]
  },
  {
   "cell_type": "code",
   "execution_count": null,
   "metadata": {},
   "outputs": [],
   "source": [
    "merged_df.rename(columns={'weight_x': 'mean_wt', 'weight_y': 'median_wt'})"
   ]
  },
  {
   "cell_type": "markdown",
   "metadata": {},
   "source": [
    "For clarity, the `rename()` method could be used on the two individual data frames before merging.\n",
    "\n",
    "It is important to understand that `merge()` method uses the specified column to match which rows to merge from the different data frames, so the order of the values in each data frame does not matter. Likewise, `merge()` can handle species that occur only in one of the two data frames."
   ]
  },
  {
   "cell_type": "code",
   "execution_count": null,
   "metadata": {},
   "outputs": [],
   "source": [
    "wt_avg.loc[2, 'species'] = 't_rex'\n",
    "wt_avg"
   ]
  },
  {
   "cell_type": "code",
   "execution_count": null,
   "metadata": {},
   "outputs": [],
   "source": [
    "pd.merge(wt_avg, wt_med, on='species')"
   ]
  },
  {
   "cell_type": "markdown",
   "metadata": {},
   "source": [
    "By default, if the column(s) to join on contains values that are not present in both data frames, rows with those values will not be included in the resulting data frame. This default behavior is referred to as an 'inner' join. To include unique values, an 'outer' join should be performed instead."
   ]
  },
  {
   "cell_type": "code",
   "execution_count": null,
   "metadata": {},
   "outputs": [],
   "source": [
    "pd.merge(wt_avg, wt_med, on='species', how='outer')"
   ]
  },
  {
   "cell_type": "markdown",
   "metadata": {},
   "source": [
    "The `NaN`s are introduced since these rows were only present in one of the joined data frames, and thus only has a value for one of the columns `weight_x` or `weight_y`."
   ]
  }
 ],
 "metadata": {
  "kernelspec": {
   "display_name": "Python 3",
   "language": "python",
   "name": "python3"
  },
  "language_info": {
   "codemirror_mode": {
    "name": "ipython",
    "version": 3
   },
   "file_extension": ".py",
   "mimetype": "text/x-python",
   "name": "python",
   "nbconvert_exporter": "python",
   "pygments_lexer": "ipython3",
   "version": "3.6.3"
  }
 },
 "nbformat": 4,
 "nbformat_minor": 2
}
